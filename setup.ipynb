{
  "nbformat": 4,
  "nbformat_minor": 0,
  "metadata": {
    "colab": {
      "provenance": [],
      "authorship_tag": "ABX9TyMUjWmnJNcdKYolOXclPlbd",
      "include_colab_link": true
    },
    "kernelspec": {
      "name": "python3",
      "display_name": "Python 3"
    },
    "language_info": {
      "name": "python"
    }
  },
  "cells": [
    {
      "cell_type": "markdown",
      "metadata": {
        "id": "view-in-github",
        "colab_type": "text"
      },
      "source": [
        "<a href=\"https://colab.research.google.com/github/KhaledMat/WasteWizard/blob/piSetup/setup.ipynb\" target=\"_parent\"><img src=\"https://colab.research.google.com/assets/colab-badge.svg\" alt=\"Open In Colab\"/></a>"
      ]
    },
    {
      "cell_type": "code",
      "execution_count": null,
      "metadata": {
        "id": "HtZMrt16ZVlZ"
      },
      "outputs": [],
      "source": [
        "import picamera\n",
        "import time\n",
        "\n",
        "# Function to capture an image\n",
        "def capture_image():\n",
        "    with picamera.PiCamera() as camera:\n",
        "        # Set resolution\n",
        "        camera.resolution = (640, 480)  # Adjust resolution as needed\n",
        "        # Start preview for a brief moment to initialize camera settings\n",
        "        camera.start_preview()\n",
        "        time.sleep(2)  # Wait for camera to initialize\n",
        "        # Capture image\n",
        "        camera.capture('test_image.jpg')  # Adjust file name as needed\n",
        "\n",
        "# Function to record a video\n",
        "def record_video(duration=5):\n",
        "    with picamera.PiCamera() as camera:\n",
        "        # Set resolution\n",
        "        camera.resolution = (640, 480)  # Adjust resolution as needed\n",
        "        # Start recording\n",
        "        camera.start_recording('test_video.h264')  # Adjust file name as needed\n",
        "        # Wait for specified duration\n",
        "        camera.wait_recording(duration)\n",
        "        # Stop recording\n",
        "        camera.stop_recording()\n",
        "\n",
        "if __name__ == \"__main__\":\n",
        "    # Capture an image\n",
        "    capture_image()\n",
        "    print(\"Image captured successfully.\")\n",
        "\n",
        "    # Record a video for 5 seconds\n",
        "    record_video()\n",
        "    print(\"Video recorded successfully.\")\n"
      ]
    },
    {
      "cell_type": "markdown",
      "source": [
        "# New Section"
      ],
      "metadata": {
        "id": "dvsEWLdot6cE"
      }
    }
  ]
}